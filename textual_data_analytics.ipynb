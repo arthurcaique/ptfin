{
  "nbformat": 4,
  "nbformat_minor": 0,
  "metadata": {
    "colab": {
      "name": "textual_data_analytics.ipynb",
      "version": "0.3.2",
      "provenance": [],
      "include_colab_link": true
    },
    "kernelspec": {
      "name": "python3",
      "display_name": "Python 3"
    },
    "accelerator": "GPU"
  },
  "cells": [
    {
      "cell_type": "markdown",
      "metadata": {
        "id": "view-in-github",
        "colab_type": "text"
      },
      "source": [
        "<a href=\"https://colab.research.google.com/github/arthurcaique/ptfin/blob/analise_textual_arthur/textual_data_analytics.ipynb\" target=\"_parent\"><img src=\"https://colab.research.google.com/assets/colab-badge.svg\" alt=\"Open In Colab\"/></a>"
      ]
    },
    {
      "metadata": {
        "id": "TIbIaShky8au",
        "colab_type": "code",
        "colab": {
          "base_uri": "https://localhost:8080/",
          "height": 323
        },
        "outputId": "c72b101d-733a-45ca-9557-95e031e64fb4"
      },
      "cell_type": "code",
      "source": [
        "!pip install PyDrive"
      ],
      "execution_count": 1,
      "outputs": [
        {
          "output_type": "stream",
          "text": [
            "Collecting PyDrive\n",
            "\u001b[?25l  Downloading https://files.pythonhosted.org/packages/52/e0/0e64788e5dd58ce2d6934549676243dc69d982f198524be9b99e9c2a4fd5/PyDrive-1.3.1.tar.gz (987kB)\n",
            "\u001b[K    100% |████████████████████████████████| 993kB 19.8MB/s \n",
            "\u001b[?25hRequirement already satisfied: google-api-python-client>=1.2 in /usr/local/lib/python3.6/dist-packages (from PyDrive) (1.6.7)\n",
            "Requirement already satisfied: oauth2client>=4.0.0 in /usr/local/lib/python3.6/dist-packages (from PyDrive) (4.1.3)\n",
            "Requirement already satisfied: PyYAML>=3.0 in /usr/local/lib/python3.6/dist-packages (from PyDrive) (3.13)\n",
            "Requirement already satisfied: httplib2<1dev,>=0.9.2 in /usr/local/lib/python3.6/dist-packages (from google-api-python-client>=1.2->PyDrive) (0.11.3)\n",
            "Requirement already satisfied: six<2dev,>=1.6.1 in /usr/local/lib/python3.6/dist-packages (from google-api-python-client>=1.2->PyDrive) (1.11.0)\n",
            "Requirement already satisfied: uritemplate<4dev,>=3.0.0 in /usr/local/lib/python3.6/dist-packages (from google-api-python-client>=1.2->PyDrive) (3.0.0)\n",
            "Requirement already satisfied: pyasn1>=0.1.7 in /usr/local/lib/python3.6/dist-packages (from oauth2client>=4.0.0->PyDrive) (0.4.5)\n",
            "Requirement already satisfied: rsa>=3.1.4 in /usr/local/lib/python3.6/dist-packages (from oauth2client>=4.0.0->PyDrive) (4.0)\n",
            "Requirement already satisfied: pyasn1-modules>=0.0.5 in /usr/local/lib/python3.6/dist-packages (from oauth2client>=4.0.0->PyDrive) (0.2.3)\n",
            "Building wheels for collected packages: PyDrive\n",
            "  Running setup.py bdist_wheel for PyDrive ... \u001b[?25l-\b \bdone\n",
            "\u001b[?25h  Stored in directory: /root/.cache/pip/wheels/fa/d2/9a/d3b6b506c2da98289e5d417215ce34b696db856643bad779f4\n",
            "Successfully built PyDrive\n",
            "Installing collected packages: PyDrive\n",
            "Successfully installed PyDrive-1.3.1\n"
          ],
          "name": "stdout"
        }
      ]
    },
    {
      "metadata": {
        "id": "m173hvg2KFQz",
        "colab_type": "code",
        "colab": {}
      },
      "cell_type": "code",
      "source": [
        "import os\n",
        "import json\n",
        "from os import listdir\n",
        "from os.path import join as join_path\n",
        "\n",
        "import tarfile\n",
        "import pandas as pd\n",
        "from pydrive.auth import GoogleAuth\n",
        "from pydrive.drive import GoogleDrive\n",
        "from google.colab import auth\n",
        "from oauth2client.client import GoogleCredentials"
      ],
      "execution_count": 0,
      "outputs": []
    },
    {
      "metadata": {
        "id": "V_1auQK5zVvu",
        "colab_type": "code",
        "colab": {}
      },
      "cell_type": "code",
      "source": [
        "auth.authenticate_user()\n",
        "gauth = GoogleAuth()\n",
        "gauth.credentials = GoogleCredentials.get_application_default()\n",
        "drive = GoogleDrive(gauth)"
      ],
      "execution_count": 0,
      "outputs": []
    },
    {
      "metadata": {
        "id": "oWZSVNgVKFQ6",
        "colab_type": "code",
        "colab": {}
      },
      "cell_type": "code",
      "source": [
        "def _get_pet_info(petID: str, file: dict, tab_data: pd.DataFrame):\n",
        "    entities = [{'entity': entity['name'], 'type': entity['type'], 'salience': \n",
        "                 entity['salience']} for entity in file['entities']]\n",
        "    \n",
        "    sentences = [{'sentence': sentence['text']['content'], \n",
        "                  'sentiment_score': sentence['sentiment']['score'], \n",
        "                  'sentiment_magnitude': sentence['sentiment']['magnitude']} \n",
        "                 for sentence in file['sentences']]\n",
        "    \n",
        "    document_sentiment = file['documentSentiment']\n",
        "    language = file['language']\n",
        "    \n",
        "    pet_infos = tab_data[tab_data['PetID'] \n",
        "                         == petID][['AdoptionSpeed', 'Type']].values[0]\n",
        "    \n",
        "    adoption_speed = pet_infos[0]\n",
        "    type_ = pet_infos[1]\n",
        "    \n",
        "    return {'entities': entities, 'sentences': sentences, \n",
        "            'document_sentiment': document_sentiment,\n",
        "    'language': language, 'adoption_speed': adoption_speed, 'type': type_}"
      ],
      "execution_count": 0,
      "outputs": []
    },
    {
      "metadata": {
        "id": "1UoIN-MP1w21",
        "colab_type": "code",
        "colab": {}
      },
      "cell_type": "code",
      "source": [
        "download = drive.CreateFile({'id': '18F3BZQooua_l6_66XwdSbfg9wY53FJBu'})\n",
        "download.GetContentFile('train_sentiment.tar')"
      ],
      "execution_count": 0,
      "outputs": []
    },
    {
      "metadata": {
        "id": "4Ex62ga5Khhs",
        "colab_type": "code",
        "colab": {}
      },
      "cell_type": "code",
      "source": [
        "tar = tarfile.open('train_sentiment.tar', \"r:\")\n",
        "tar.extractall()\n",
        "\n",
        "files = {filename.replace('.json', '').split('/')[-1]: json.load(open(filename))\n",
        "         for filename in tar.getnames() if filename.endswith('.json')}\n",
        "\n",
        "tar.close()"
      ],
      "execution_count": 0,
      "outputs": []
    },
    {
      "metadata": {
        "id": "RAKYjOXYKFRG",
        "colab_type": "code",
        "colab": {}
      },
      "cell_type": "code",
      "source": [
        "download2 = drive.CreateFile({'id': '1j9eszo9HWocomdOQ7VztqtM1eRN1u6wL'})\n",
        "download2.GetContentFile('train.csv')\n",
        "\n",
        "tab_data = pd.read_csv('train.csv', sep = ',', encoding='utf-8')\n",
        "tab_data = tab_data[['PetID', 'AdoptionSpeed', 'Type']]"
      ],
      "execution_count": 0,
      "outputs": []
    },
    {
      "metadata": {
        "id": "5CmNJT20KFRK",
        "colab_type": "code",
        "colab": {}
      },
      "cell_type": "code",
      "source": [
        "pets_infos = [_get_pet_info(petID=petID, file=file, tab_data=tab_data) for petID, file in files.items()]\n",
        "pets_infos_df = pd.DataFrame(pets_infos)"
      ],
      "execution_count": 0,
      "outputs": []
    },
    {
      "metadata": {
        "id": "-hXXsy6dKFRV",
        "colab_type": "code",
        "colab": {}
      },
      "cell_type": "code",
      "source": [
        "#ToDo verificar se os valores das keys nao utilizadas do json sao sempre todas vazias mesmo\n",
        "#ToDo pesquisar como foi feito o classificacao do score de sentimento das frases e texto\n",
        "#ToDo analytics: geral, por tipo de pet"
      ],
      "execution_count": 0,
      "outputs": []
    }
  ]
}